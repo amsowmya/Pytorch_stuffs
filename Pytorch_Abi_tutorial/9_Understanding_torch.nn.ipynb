{
 "cells": [
  {
   "cell_type": "code",
   "execution_count": 1,
   "metadata": {},
   "outputs": [],
   "source": [
    "import torch"
   ]
  },
  {
   "cell_type": "code",
   "execution_count": null,
   "metadata": {},
   "outputs": [],
   "source": [
    "# nn.Module  -> Base class of all nn module"
   ]
  },
  {
   "cell_type": "markdown",
   "metadata": {},
   "source": [
    "Containers\n",
    "\n",
    "- Module\n",
    "- Sequential\n",
    "- ModelList\n",
    "- ModelDict\n",
    "\n",
    "Layers:\n",
    "\n",
    "- Conv1d , Conv2d\n",
    "- MaxPool1d, MaxPool2d\n",
    "- AvgPool1d, AvgPool2d\n",
    "- BatchNorm1d, BatchNorm2d\n",
    "- LayerNorm\n",
    "- LSTM , GRU, \n",
    "- Linear, Dropout, Embedding, Transformer\n",
    "\n",
    "Activations\n",
    "\n",
    "- ReLU\n",
    "- LeakyReLU\n",
    "- Sigmoid\n",
    "- Tanh\n",
    "- Softmax\n",
    "\n",
    "Loss Functions\n",
    "\n",
    "- MSELoss  -> MeansquaredError\n",
    "- CrossEntropyLoss\n",
    "- NLLLoss  -> \n",
    "- BCELoss  -> Binary Cross Entropy Loss\n",
    "- BCEWithLogitsLoss  -> Binary Cross Entropy with"
   ]
  },
  {
   "cell_type": "code",
   "execution_count": 2,
   "metadata": {},
   "outputs": [],
   "source": [
    "import torch\n",
    "import torch.nn as nn"
   ]
  },
  {
   "cell_type": "code",
   "execution_count": 3,
   "metadata": {},
   "outputs": [],
   "source": [
    "class Model(nn.Module):\n",
    "    def __init__(self):\n",
    "        super().__init__()\n",
    "        self.layer1 = nn.Linear(128, 32)\n",
    "        self.layer2 = nn.Linear(32, 16)\n",
    "        self.layer3 = nn.Linear(16, 1)\n",
    "\n",
    "    def forward(self, features):\n",
    "        # (32, 128) -> 32 is the batch_sizw\n",
    "        x = self.layer1(features)\n",
    "        # (32, 32)\n",
    "        x = self.layer2(x)\n",
    "        x = self.layer3(x)\n",
    "        # (32, 1)\n",
    "        return x"
   ]
  },
  {
   "cell_type": "code",
   "execution_count": 6,
   "metadata": {},
   "outputs": [
    {
     "name": "stdout",
     "output_type": "stream",
     "text": [
      "tensor([[0.8405, 0.0343, 0.6214, 0.7671, 0.6541, 0.7500, 0.2187, 0.3493, 0.1278,\n",
      "         0.8938, 0.4095, 0.8046, 0.8922, 0.2412, 0.9289, 0.3744, 0.7673, 0.3742,\n",
      "         0.3575, 0.9705, 0.0401, 0.6170, 0.6682, 0.8882, 0.2638, 0.9103, 0.4588,\n",
      "         0.6888, 0.2993, 0.4081, 0.7506, 0.0522, 0.9874, 0.1218, 0.1047, 0.9440,\n",
      "         0.5672, 0.7175, 0.3329, 0.7843, 0.2966, 0.1599, 0.9389, 0.9134, 0.7652,\n",
      "         0.6329, 0.5535, 0.9246, 0.0863, 0.8663, 0.1768, 0.0604, 0.7917, 0.7263,\n",
      "         0.9164, 0.0961, 0.5096, 0.4710, 0.1253, 0.7827, 0.1339, 0.3688, 0.9804,\n",
      "         0.9095, 0.4889, 0.7433, 0.5424, 0.6907, 0.5912, 0.9734, 0.4859, 0.6705,\n",
      "         0.5911, 0.4852, 0.7882, 0.6868, 0.1916, 0.9519, 0.8811, 0.2780, 0.1598,\n",
      "         0.4705, 0.0089, 0.1022, 0.8973, 0.7982, 0.3800, 0.8264, 0.0815, 0.2548,\n",
      "         0.0014, 0.2785, 0.6472, 0.8606, 0.3262, 0.1013, 0.0150, 0.6738, 0.8384,\n",
      "         0.8554, 0.6489, 0.3668, 0.0726, 0.0888, 0.6105, 0.4896, 0.8166, 0.8925,\n",
      "         0.8045, 0.8759, 0.1338, 0.5305, 0.7860, 0.8446, 0.2431, 0.8018, 0.3218,\n",
      "         0.7272, 0.8139, 0.7564, 0.0176, 0.4417, 0.1646, 0.9612, 0.5871, 0.6417,\n",
      "         0.8985, 0.9646],\n",
      "        [0.2862, 0.0156, 0.0353, 0.1568, 0.7759, 0.7379, 0.0610, 0.0311, 0.0105,\n",
      "         0.9141, 0.5440, 0.5158, 0.5811, 0.8996, 0.7058, 0.4779, 0.1000, 0.9457,\n",
      "         0.7056, 0.3915, 0.7848, 0.3777, 0.7545, 0.8032, 0.4587, 0.3713, 0.3747,\n",
      "         0.9419, 0.3509, 0.7556, 0.9845, 0.6809, 0.1626, 0.1951, 0.7128, 0.3131,\n",
      "         0.6393, 0.6953, 0.2509, 0.5504, 0.7526, 0.3851, 0.8149, 0.6522, 0.1048,\n",
      "         0.6089, 0.0730, 0.9996, 0.3257, 0.0882, 0.2164, 0.1236, 0.4095, 0.3997,\n",
      "         0.2475, 0.4486, 0.2355, 0.6955, 0.0154, 0.0027, 0.6296, 0.5050, 0.5668,\n",
      "         0.2779, 0.3107, 0.2223, 0.1360, 0.8978, 0.8179, 0.7124, 0.1667, 0.3407,\n",
      "         0.6557, 0.6306, 0.4748, 0.4972, 0.1691, 0.2307, 0.4750, 0.6248, 0.6003,\n",
      "         0.7496, 0.9615, 0.7964, 0.9391, 0.1875, 0.4592, 0.8565, 0.3599, 0.3072,\n",
      "         0.3534, 0.3457, 0.0030, 0.5296, 0.2932, 0.2742, 0.8933, 0.7684, 0.5227,\n",
      "         0.4268, 0.1005, 0.6513, 0.6937, 0.6027, 0.8956, 0.7188, 0.8796, 0.8293,\n",
      "         0.2707, 0.2422, 0.0025, 0.9791, 0.9159, 0.0815, 0.8406, 0.1011, 0.4782,\n",
      "         0.2530, 0.3607, 0.5979, 0.6249, 0.8532, 0.8733, 0.9822, 0.1524, 0.6737,\n",
      "         0.6666, 0.6956]])\n"
     ]
    }
   ],
   "source": [
    "model = Model()\n",
    "\n",
    "features = torch.rand(2, 128)\n",
    "print(features)"
   ]
  },
  {
   "cell_type": "code",
   "execution_count": 7,
   "metadata": {},
   "outputs": [
    {
     "data": {
      "text/plain": [
       "torch.Size([2, 128])"
      ]
     },
     "execution_count": 7,
     "metadata": {},
     "output_type": "execute_result"
    }
   ],
   "source": [
    "features.shape"
   ]
  },
  {
   "cell_type": "code",
   "execution_count": 8,
   "metadata": {},
   "outputs": [
    {
     "data": {
      "text/plain": [
       "tensor([[-0.1235],\n",
       "        [-0.0069]], grad_fn=<AddmmBackward0>)"
      ]
     },
     "execution_count": 8,
     "metadata": {},
     "output_type": "execute_result"
    }
   ],
   "source": [
    "model(features)"
   ]
  },
  {
   "cell_type": "code",
   "execution_count": 9,
   "metadata": {},
   "outputs": [
    {
     "data": {
      "text/plain": [
       "device(type='cpu')"
      ]
     },
     "execution_count": 9,
     "metadata": {},
     "output_type": "execute_result"
    }
   ],
   "source": [
    "features.device"
   ]
  },
  {
   "cell_type": "code",
   "execution_count": 11,
   "metadata": {},
   "outputs": [
    {
     "data": {
      "text/plain": [
       "tensor([[-0.1052],\n",
       "        [-0.2962]], grad_fn=<AddmmBackward0>)"
      ]
     },
     "execution_count": 11,
     "metadata": {},
     "output_type": "execute_result"
    }
   ],
   "source": [
    "features = features.to(\"cpu\")\n",
    "model = Model()\n",
    "model.to(\"cpu\")\n",
    "model(features)"
   ]
  },
  {
   "cell_type": "code",
   "execution_count": 13,
   "metadata": {},
   "outputs": [],
   "source": [
    "class Model(nn.Module):\n",
    "    def __init__(self):\n",
    "        super().__init__()\n",
    "        self.base = nn.Sequential(\n",
    "            nn.Linear(128, 32),\n",
    "            nn.Linear(32, 16),\n",
    "            nn.Linear(16, 1),\n",
    "        )\n",
    "\n",
    "    def forward(self, features):\n",
    "        x = self.base(features)\n",
    "        return x"
   ]
  },
  {
   "cell_type": "code",
   "execution_count": 14,
   "metadata": {},
   "outputs": [
    {
     "data": {
      "text/plain": [
       "tensor([[0.2987],\n",
       "        [0.2726]], grad_fn=<AddmmBackward0>)"
      ]
     },
     "execution_count": 14,
     "metadata": {},
     "output_type": "execute_result"
    }
   ],
   "source": [
    "features = features.to(\"cpu\")\n",
    "model = Model()\n",
    "model.to(\"cpu\")\n",
    "model(features)"
   ]
  },
  {
   "cell_type": "code",
   "execution_count": null,
   "metadata": {},
   "outputs": [],
   "source": []
  }
 ],
 "metadata": {
  "kernelspec": {
   "display_name": "Python 3",
   "language": "python",
   "name": "python3"
  },
  "language_info": {
   "codemirror_mode": {
    "name": "ipython",
    "version": 3
   },
   "file_extension": ".py",
   "mimetype": "text/x-python",
   "name": "python",
   "nbconvert_exporter": "python",
   "pygments_lexer": "ipython3",
   "version": "3.10.0"
  }
 },
 "nbformat": 4,
 "nbformat_minor": 2
}
