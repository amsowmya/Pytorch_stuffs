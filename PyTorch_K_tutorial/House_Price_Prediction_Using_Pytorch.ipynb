{
 "cells": [
  {
   "cell_type": "code",
   "execution_count": 131,
   "metadata": {},
   "outputs": [],
   "source": [
    "import pandas as pd"
   ]
  },
  {
   "cell_type": "code",
   "execution_count": 132,
   "metadata": {},
   "outputs": [
    {
     "data": {
      "text/plain": [
       "Index(['Id', 'MSSubClass', 'MSZoning', 'LotFrontage', 'LotArea', 'Street',\n",
       "       'Alley', 'LotShape', 'LandContour', 'Utilities', 'LotConfig',\n",
       "       'LandSlope', 'Neighborhood', 'Condition1', 'Condition2', 'BldgType',\n",
       "       'HouseStyle', 'OverallQual', 'OverallCond', 'YearBuilt', 'YearRemodAdd',\n",
       "       'RoofStyle', 'RoofMatl', 'Exterior1st', 'Exterior2nd', 'MasVnrType',\n",
       "       'MasVnrArea', 'ExterQual', 'ExterCond', 'Foundation', 'BsmtQual',\n",
       "       'BsmtCond', 'BsmtExposure', 'BsmtFinType1', 'BsmtFinSF1',\n",
       "       'BsmtFinType2', 'BsmtFinSF2', 'BsmtUnfSF', 'TotalBsmtSF', 'Heating',\n",
       "       'HeatingQC', 'CentralAir', 'Electrical', '1stFlrSF', '2ndFlrSF',\n",
       "       'LowQualFinSF', 'GrLivArea', 'BsmtFullBath', 'BsmtHalfBath', 'FullBath',\n",
       "       'HalfBath', 'BedroomAbvGr', 'KitchenAbvGr', 'KitchenQual',\n",
       "       'TotRmsAbvGrd', 'Functional', 'Fireplaces', 'FireplaceQu', 'GarageType',\n",
       "       'GarageYrBlt', 'GarageFinish', 'GarageCars', 'GarageArea', 'GarageQual',\n",
       "       'GarageCond', 'PavedDrive', 'WoodDeckSF', 'OpenPorchSF',\n",
       "       'EnclosedPorch', '3SsnPorch', 'ScreenPorch', 'PoolArea', 'PoolQC',\n",
       "       'Fence', 'MiscFeature', 'MiscVal', 'MoSold', 'YrSold', 'SaleType',\n",
       "       'SaleCondition', 'SalePrice'],\n",
       "      dtype='object')"
      ]
     },
     "execution_count": 132,
     "metadata": {},
     "output_type": "execute_result"
    }
   ],
   "source": [
    "df = pd.read_csv(\"C:\\Sowmya\\Personal\\PYTORCH\\Pytorch_stuffs\\houseprice.csv\")\n",
    "df.columns"
   ]
  },
  {
   "cell_type": "code",
   "execution_count": 133,
   "metadata": {},
   "outputs": [],
   "source": [
    "df = pd.read_csv(\"C:\\Sowmya\\Personal\\PYTORCH\\Pytorch_stuffs\\houseprice.csv\", usecols=[\"SalePrice\", \"MSSubClass\", 'MSZoning', 'LotFrontage', 'LotArea', 'Street', 'YearBuilt', '1stFlrSF', '2ndFlrSF', 'LotShape']).dropna()"
   ]
  },
  {
   "cell_type": "code",
   "execution_count": 134,
   "metadata": {},
   "outputs": [
    {
     "data": {
      "text/plain": [
       "(1201, 10)"
      ]
     },
     "execution_count": 134,
     "metadata": {},
     "output_type": "execute_result"
    }
   ],
   "source": [
    "df.shape"
   ]
  },
  {
   "cell_type": "code",
   "execution_count": 135,
   "metadata": {},
   "outputs": [
    {
     "data": {
      "text/html": [
       "<div>\n",
       "<style scoped>\n",
       "    .dataframe tbody tr th:only-of-type {\n",
       "        vertical-align: middle;\n",
       "    }\n",
       "\n",
       "    .dataframe tbody tr th {\n",
       "        vertical-align: top;\n",
       "    }\n",
       "\n",
       "    .dataframe thead th {\n",
       "        text-align: right;\n",
       "    }\n",
       "</style>\n",
       "<table border=\"1\" class=\"dataframe\">\n",
       "  <thead>\n",
       "    <tr style=\"text-align: right;\">\n",
       "      <th></th>\n",
       "      <th>MSSubClass</th>\n",
       "      <th>MSZoning</th>\n",
       "      <th>LotFrontage</th>\n",
       "      <th>LotArea</th>\n",
       "      <th>Street</th>\n",
       "      <th>LotShape</th>\n",
       "      <th>YearBuilt</th>\n",
       "      <th>1stFlrSF</th>\n",
       "      <th>2ndFlrSF</th>\n",
       "      <th>SalePrice</th>\n",
       "    </tr>\n",
       "  </thead>\n",
       "  <tbody>\n",
       "    <tr>\n",
       "      <th>0</th>\n",
       "      <td>60</td>\n",
       "      <td>RL</td>\n",
       "      <td>65.0</td>\n",
       "      <td>8450</td>\n",
       "      <td>Pave</td>\n",
       "      <td>Reg</td>\n",
       "      <td>2003</td>\n",
       "      <td>856</td>\n",
       "      <td>854</td>\n",
       "      <td>208500</td>\n",
       "    </tr>\n",
       "    <tr>\n",
       "      <th>1</th>\n",
       "      <td>20</td>\n",
       "      <td>RL</td>\n",
       "      <td>80.0</td>\n",
       "      <td>9600</td>\n",
       "      <td>Pave</td>\n",
       "      <td>Reg</td>\n",
       "      <td>1976</td>\n",
       "      <td>1262</td>\n",
       "      <td>0</td>\n",
       "      <td>181500</td>\n",
       "    </tr>\n",
       "    <tr>\n",
       "      <th>2</th>\n",
       "      <td>60</td>\n",
       "      <td>RL</td>\n",
       "      <td>68.0</td>\n",
       "      <td>11250</td>\n",
       "      <td>Pave</td>\n",
       "      <td>IR1</td>\n",
       "      <td>2001</td>\n",
       "      <td>920</td>\n",
       "      <td>866</td>\n",
       "      <td>223500</td>\n",
       "    </tr>\n",
       "    <tr>\n",
       "      <th>3</th>\n",
       "      <td>70</td>\n",
       "      <td>RL</td>\n",
       "      <td>60.0</td>\n",
       "      <td>9550</td>\n",
       "      <td>Pave</td>\n",
       "      <td>IR1</td>\n",
       "      <td>1915</td>\n",
       "      <td>961</td>\n",
       "      <td>756</td>\n",
       "      <td>140000</td>\n",
       "    </tr>\n",
       "    <tr>\n",
       "      <th>4</th>\n",
       "      <td>60</td>\n",
       "      <td>RL</td>\n",
       "      <td>84.0</td>\n",
       "      <td>14260</td>\n",
       "      <td>Pave</td>\n",
       "      <td>IR1</td>\n",
       "      <td>2000</td>\n",
       "      <td>1145</td>\n",
       "      <td>1053</td>\n",
       "      <td>250000</td>\n",
       "    </tr>\n",
       "  </tbody>\n",
       "</table>\n",
       "</div>"
      ],
      "text/plain": [
       "   MSSubClass MSZoning  LotFrontage  LotArea Street LotShape  YearBuilt  \\\n",
       "0          60       RL         65.0     8450   Pave      Reg       2003   \n",
       "1          20       RL         80.0     9600   Pave      Reg       1976   \n",
       "2          60       RL         68.0    11250   Pave      IR1       2001   \n",
       "3          70       RL         60.0     9550   Pave      IR1       1915   \n",
       "4          60       RL         84.0    14260   Pave      IR1       2000   \n",
       "\n",
       "   1stFlrSF  2ndFlrSF  SalePrice  \n",
       "0       856       854     208500  \n",
       "1      1262         0     181500  \n",
       "2       920       866     223500  \n",
       "3       961       756     140000  \n",
       "4      1145      1053     250000  "
      ]
     },
     "execution_count": 135,
     "metadata": {},
     "output_type": "execute_result"
    }
   ],
   "source": [
    "df.head()"
   ]
  },
  {
   "cell_type": "code",
   "execution_count": 136,
   "metadata": {},
   "outputs": [
    {
     "name": "stdout",
     "output_type": "stream",
     "text": [
      "Column name : MSSubClass, unique values are 15\n",
      "Column name : MSZoning, unique values are 5\n",
      "Column name : LotFrontage, unique values are 110\n",
      "Column name : LotArea, unique values are 869\n",
      "Column name : Street, unique values are 2\n",
      "Column name : LotShape, unique values are 4\n",
      "Column name : YearBuilt, unique values are 112\n",
      "Column name : 1stFlrSF, unique values are 678\n",
      "Column name : 2ndFlrSF, unique values are 368\n",
      "Column name : SalePrice, unique values are 597\n"
     ]
    }
   ],
   "source": [
    "for i in df.columns:\n",
    "    print(f\"Column name : {i}, unique values are {len(df[i].unique())}\")"
   ]
  },
  {
   "cell_type": "code",
   "execution_count": 137,
   "metadata": {},
   "outputs": [
    {
     "name": "stdout",
     "output_type": "stream",
     "text": [
      "<class 'pandas.core.frame.DataFrame'>\n",
      "Index: 1201 entries, 0 to 1459\n",
      "Data columns (total 10 columns):\n",
      " #   Column       Non-Null Count  Dtype  \n",
      "---  ------       --------------  -----  \n",
      " 0   MSSubClass   1201 non-null   int64  \n",
      " 1   MSZoning     1201 non-null   object \n",
      " 2   LotFrontage  1201 non-null   float64\n",
      " 3   LotArea      1201 non-null   int64  \n",
      " 4   Street       1201 non-null   object \n",
      " 5   LotShape     1201 non-null   object \n",
      " 6   YearBuilt    1201 non-null   int64  \n",
      " 7   1stFlrSF     1201 non-null   int64  \n",
      " 8   2ndFlrSF     1201 non-null   int64  \n",
      " 9   SalePrice    1201 non-null   int64  \n",
      "dtypes: float64(1), int64(6), object(3)\n",
      "memory usage: 103.2+ KB\n"
     ]
    }
   ],
   "source": [
    "df.info()"
   ]
  },
  {
   "cell_type": "code",
   "execution_count": 138,
   "metadata": {},
   "outputs": [
    {
     "data": {
      "text/plain": [
       "2024"
      ]
     },
     "execution_count": 138,
     "metadata": {},
     "output_type": "execute_result"
    }
   ],
   "source": [
    "from datetime import datetime\n",
    "\n",
    "datetime.now().year"
   ]
  },
  {
   "cell_type": "code",
   "execution_count": 139,
   "metadata": {},
   "outputs": [],
   "source": [
    "df['Total years'] = datetime.now().year - df['YearBuilt']"
   ]
  },
  {
   "cell_type": "code",
   "execution_count": 140,
   "metadata": {},
   "outputs": [
    {
     "data": {
      "text/html": [
       "<div>\n",
       "<style scoped>\n",
       "    .dataframe tbody tr th:only-of-type {\n",
       "        vertical-align: middle;\n",
       "    }\n",
       "\n",
       "    .dataframe tbody tr th {\n",
       "        vertical-align: top;\n",
       "    }\n",
       "\n",
       "    .dataframe thead th {\n",
       "        text-align: right;\n",
       "    }\n",
       "</style>\n",
       "<table border=\"1\" class=\"dataframe\">\n",
       "  <thead>\n",
       "    <tr style=\"text-align: right;\">\n",
       "      <th></th>\n",
       "      <th>MSSubClass</th>\n",
       "      <th>MSZoning</th>\n",
       "      <th>LotFrontage</th>\n",
       "      <th>LotArea</th>\n",
       "      <th>Street</th>\n",
       "      <th>LotShape</th>\n",
       "      <th>YearBuilt</th>\n",
       "      <th>1stFlrSF</th>\n",
       "      <th>2ndFlrSF</th>\n",
       "      <th>SalePrice</th>\n",
       "      <th>Total years</th>\n",
       "    </tr>\n",
       "  </thead>\n",
       "  <tbody>\n",
       "    <tr>\n",
       "      <th>0</th>\n",
       "      <td>60</td>\n",
       "      <td>RL</td>\n",
       "      <td>65.0</td>\n",
       "      <td>8450</td>\n",
       "      <td>Pave</td>\n",
       "      <td>Reg</td>\n",
       "      <td>2003</td>\n",
       "      <td>856</td>\n",
       "      <td>854</td>\n",
       "      <td>208500</td>\n",
       "      <td>21</td>\n",
       "    </tr>\n",
       "    <tr>\n",
       "      <th>1</th>\n",
       "      <td>20</td>\n",
       "      <td>RL</td>\n",
       "      <td>80.0</td>\n",
       "      <td>9600</td>\n",
       "      <td>Pave</td>\n",
       "      <td>Reg</td>\n",
       "      <td>1976</td>\n",
       "      <td>1262</td>\n",
       "      <td>0</td>\n",
       "      <td>181500</td>\n",
       "      <td>48</td>\n",
       "    </tr>\n",
       "    <tr>\n",
       "      <th>2</th>\n",
       "      <td>60</td>\n",
       "      <td>RL</td>\n",
       "      <td>68.0</td>\n",
       "      <td>11250</td>\n",
       "      <td>Pave</td>\n",
       "      <td>IR1</td>\n",
       "      <td>2001</td>\n",
       "      <td>920</td>\n",
       "      <td>866</td>\n",
       "      <td>223500</td>\n",
       "      <td>23</td>\n",
       "    </tr>\n",
       "    <tr>\n",
       "      <th>3</th>\n",
       "      <td>70</td>\n",
       "      <td>RL</td>\n",
       "      <td>60.0</td>\n",
       "      <td>9550</td>\n",
       "      <td>Pave</td>\n",
       "      <td>IR1</td>\n",
       "      <td>1915</td>\n",
       "      <td>961</td>\n",
       "      <td>756</td>\n",
       "      <td>140000</td>\n",
       "      <td>109</td>\n",
       "    </tr>\n",
       "    <tr>\n",
       "      <th>4</th>\n",
       "      <td>60</td>\n",
       "      <td>RL</td>\n",
       "      <td>84.0</td>\n",
       "      <td>14260</td>\n",
       "      <td>Pave</td>\n",
       "      <td>IR1</td>\n",
       "      <td>2000</td>\n",
       "      <td>1145</td>\n",
       "      <td>1053</td>\n",
       "      <td>250000</td>\n",
       "      <td>24</td>\n",
       "    </tr>\n",
       "  </tbody>\n",
       "</table>\n",
       "</div>"
      ],
      "text/plain": [
       "   MSSubClass MSZoning  LotFrontage  LotArea Street LotShape  YearBuilt  \\\n",
       "0          60       RL         65.0     8450   Pave      Reg       2003   \n",
       "1          20       RL         80.0     9600   Pave      Reg       1976   \n",
       "2          60       RL         68.0    11250   Pave      IR1       2001   \n",
       "3          70       RL         60.0     9550   Pave      IR1       1915   \n",
       "4          60       RL         84.0    14260   Pave      IR1       2000   \n",
       "\n",
       "   1stFlrSF  2ndFlrSF  SalePrice  Total years  \n",
       "0       856       854     208500           21  \n",
       "1      1262         0     181500           48  \n",
       "2       920       866     223500           23  \n",
       "3       961       756     140000          109  \n",
       "4      1145      1053     250000           24  "
      ]
     },
     "execution_count": 140,
     "metadata": {},
     "output_type": "execute_result"
    }
   ],
   "source": [
    "df.head()"
   ]
  },
  {
   "cell_type": "code",
   "execution_count": 141,
   "metadata": {},
   "outputs": [],
   "source": [
    "df.drop(\"YearBuilt\", axis=1, inplace=True)"
   ]
  },
  {
   "cell_type": "code",
   "execution_count": 142,
   "metadata": {},
   "outputs": [
    {
     "data": {
      "text/plain": [
       "Index(['MSSubClass', 'MSZoning', 'LotFrontage', 'LotArea', 'Street',\n",
       "       'LotShape', '1stFlrSF', '2ndFlrSF', 'SalePrice', 'Total years'],\n",
       "      dtype='object')"
      ]
     },
     "execution_count": 142,
     "metadata": {},
     "output_type": "execute_result"
    }
   ],
   "source": [
    "df.columns"
   ]
  },
  {
   "cell_type": "code",
   "execution_count": 143,
   "metadata": {},
   "outputs": [],
   "source": [
    "cat_features = [\"MSSubClass\", \"MSZoning\", \"Street\", \"LotShape\"]\n",
    "out_feature = \"SalePrice\""
   ]
  },
  {
   "cell_type": "code",
   "execution_count": 144,
   "metadata": {},
   "outputs": [
    {
     "data": {
      "text/plain": [
       "array([5, 0, 5, ..., 6, 0, 0])"
      ]
     },
     "execution_count": 144,
     "metadata": {},
     "output_type": "execute_result"
    }
   ],
   "source": [
    "from sklearn.preprocessing import LabelEncoder\n",
    "lbl_encoders = {}\n",
    "lbl_encoders[\"MSSubClass\"] = LabelEncoder()\n",
    "lbl_encoders[\"MSSubClass\"].fit_transform(df[\"MSSubClass\"])"
   ]
  },
  {
   "cell_type": "code",
   "execution_count": 145,
   "metadata": {},
   "outputs": [
    {
     "data": {
      "text/plain": [
       "{'MSSubClass': LabelEncoder()}"
      ]
     },
     "execution_count": 145,
     "metadata": {},
     "output_type": "execute_result"
    }
   ],
   "source": [
    "lbl_encoders"
   ]
  },
  {
   "cell_type": "code",
   "execution_count": 146,
   "metadata": {},
   "outputs": [],
   "source": [
    "from sklearn.preprocessing import LabelEncoder\n",
    "\n",
    "lbl_encoders = {}\n",
    "for feature in cat_features:\n",
    "    lbl_encoders[feature] = LabelEncoder()\n",
    "    df[feature] = lbl_encoders[feature].fit_transform(df[feature])"
   ]
  },
  {
   "cell_type": "code",
   "execution_count": 147,
   "metadata": {},
   "outputs": [
    {
     "data": {
      "text/plain": [
       "{'MSSubClass': LabelEncoder(),\n",
       " 'MSZoning': LabelEncoder(),\n",
       " 'Street': LabelEncoder(),\n",
       " 'LotShape': LabelEncoder()}"
      ]
     },
     "execution_count": 147,
     "metadata": {},
     "output_type": "execute_result"
    }
   ],
   "source": [
    "lbl_encoders"
   ]
  },
  {
   "cell_type": "code",
   "execution_count": 148,
   "metadata": {},
   "outputs": [
    {
     "data": {
      "text/html": [
       "<div>\n",
       "<style scoped>\n",
       "    .dataframe tbody tr th:only-of-type {\n",
       "        vertical-align: middle;\n",
       "    }\n",
       "\n",
       "    .dataframe tbody tr th {\n",
       "        vertical-align: top;\n",
       "    }\n",
       "\n",
       "    .dataframe thead th {\n",
       "        text-align: right;\n",
       "    }\n",
       "</style>\n",
       "<table border=\"1\" class=\"dataframe\">\n",
       "  <thead>\n",
       "    <tr style=\"text-align: right;\">\n",
       "      <th></th>\n",
       "      <th>MSSubClass</th>\n",
       "      <th>MSZoning</th>\n",
       "      <th>LotFrontage</th>\n",
       "      <th>LotArea</th>\n",
       "      <th>Street</th>\n",
       "      <th>LotShape</th>\n",
       "      <th>1stFlrSF</th>\n",
       "      <th>2ndFlrSF</th>\n",
       "      <th>SalePrice</th>\n",
       "      <th>Total years</th>\n",
       "    </tr>\n",
       "  </thead>\n",
       "  <tbody>\n",
       "    <tr>\n",
       "      <th>0</th>\n",
       "      <td>5</td>\n",
       "      <td>3</td>\n",
       "      <td>65.0</td>\n",
       "      <td>8450</td>\n",
       "      <td>1</td>\n",
       "      <td>3</td>\n",
       "      <td>856</td>\n",
       "      <td>854</td>\n",
       "      <td>208500</td>\n",
       "      <td>21</td>\n",
       "    </tr>\n",
       "    <tr>\n",
       "      <th>1</th>\n",
       "      <td>0</td>\n",
       "      <td>3</td>\n",
       "      <td>80.0</td>\n",
       "      <td>9600</td>\n",
       "      <td>1</td>\n",
       "      <td>3</td>\n",
       "      <td>1262</td>\n",
       "      <td>0</td>\n",
       "      <td>181500</td>\n",
       "      <td>48</td>\n",
       "    </tr>\n",
       "    <tr>\n",
       "      <th>2</th>\n",
       "      <td>5</td>\n",
       "      <td>3</td>\n",
       "      <td>68.0</td>\n",
       "      <td>11250</td>\n",
       "      <td>1</td>\n",
       "      <td>0</td>\n",
       "      <td>920</td>\n",
       "      <td>866</td>\n",
       "      <td>223500</td>\n",
       "      <td>23</td>\n",
       "    </tr>\n",
       "    <tr>\n",
       "      <th>3</th>\n",
       "      <td>6</td>\n",
       "      <td>3</td>\n",
       "      <td>60.0</td>\n",
       "      <td>9550</td>\n",
       "      <td>1</td>\n",
       "      <td>0</td>\n",
       "      <td>961</td>\n",
       "      <td>756</td>\n",
       "      <td>140000</td>\n",
       "      <td>109</td>\n",
       "    </tr>\n",
       "    <tr>\n",
       "      <th>4</th>\n",
       "      <td>5</td>\n",
       "      <td>3</td>\n",
       "      <td>84.0</td>\n",
       "      <td>14260</td>\n",
       "      <td>1</td>\n",
       "      <td>0</td>\n",
       "      <td>1145</td>\n",
       "      <td>1053</td>\n",
       "      <td>250000</td>\n",
       "      <td>24</td>\n",
       "    </tr>\n",
       "  </tbody>\n",
       "</table>\n",
       "</div>"
      ],
      "text/plain": [
       "   MSSubClass  MSZoning  LotFrontage  LotArea  Street  LotShape  1stFlrSF  \\\n",
       "0           5         3         65.0     8450       1         3       856   \n",
       "1           0         3         80.0     9600       1         3      1262   \n",
       "2           5         3         68.0    11250       1         0       920   \n",
       "3           6         3         60.0     9550       1         0       961   \n",
       "4           5         3         84.0    14260       1         0      1145   \n",
       "\n",
       "   2ndFlrSF  SalePrice  Total years  \n",
       "0       854     208500           21  \n",
       "1         0     181500           48  \n",
       "2       866     223500           23  \n",
       "3       756     140000          109  \n",
       "4      1053     250000           24  "
      ]
     },
     "execution_count": 148,
     "metadata": {},
     "output_type": "execute_result"
    }
   ],
   "source": [
    "df.head()"
   ]
  },
  {
   "cell_type": "code",
   "execution_count": 149,
   "metadata": {},
   "outputs": [
    {
     "data": {
      "text/plain": [
       "array([[5, 3, 1, 3],\n",
       "       [0, 3, 1, 3],\n",
       "       [5, 3, 1, 0],\n",
       "       ...,\n",
       "       [6, 3, 1, 3],\n",
       "       [0, 3, 1, 3],\n",
       "       [0, 3, 1, 3]])"
      ]
     },
     "execution_count": 149,
     "metadata": {},
     "output_type": "execute_result"
    }
   ],
   "source": [
    "import numpy as np\n",
    "\n",
    "# Stacking and converting into Tensors\n",
    "cat_features = np.stack([df['MSSubClass'], df['MSZoning'], df['Street'], df['LotShape']], 1)\n",
    "cat_features"
   ]
  },
  {
   "cell_type": "code",
   "execution_count": 150,
   "metadata": {},
   "outputs": [
    {
     "data": {
      "text/plain": [
       "tensor([[5, 3, 1, 3],\n",
       "        [0, 3, 1, 3],\n",
       "        [5, 3, 1, 0],\n",
       "        ...,\n",
       "        [6, 3, 1, 3],\n",
       "        [0, 3, 1, 3],\n",
       "        [0, 3, 1, 3]])"
      ]
     },
     "execution_count": 150,
     "metadata": {},
     "output_type": "execute_result"
    }
   ],
   "source": [
    "# Convert numpy to tensors\n",
    "import torch\n",
    "cat_features = torch.tensor(cat_features, dtype=torch.int64)\n",
    "cat_features"
   ]
  },
  {
   "cell_type": "code",
   "execution_count": 151,
   "metadata": {},
   "outputs": [],
   "source": [
    "# Create contineous features\n",
    "cont_features = []\n",
    "\n",
    "for i in df.columns:\n",
    "    if i in [\"MSSubClass\", \"MSZoning\", \"Street\", \"LotShape\", \"SalePrice\"]:\n",
    "        pass\n",
    "    else:\n",
    "        cont_features.append(i)"
   ]
  },
  {
   "cell_type": "code",
   "execution_count": 152,
   "metadata": {},
   "outputs": [
    {
     "data": {
      "text/plain": [
       "['LotFrontage', 'LotArea', '1stFlrSF', '2ndFlrSF', 'Total years']"
      ]
     },
     "execution_count": 152,
     "metadata": {},
     "output_type": "execute_result"
    }
   ],
   "source": [
    "cont_features"
   ]
  },
  {
   "cell_type": "code",
   "execution_count": 153,
   "metadata": {},
   "outputs": [
    {
     "data": {
      "text/plain": [
       "tensor([[   65.,  8450.,   856.,   854.,    21.],\n",
       "        [   80.,  9600.,  1262.,     0.,    48.],\n",
       "        [   68., 11250.,   920.,   866.,    23.],\n",
       "        ...,\n",
       "        [   66.,  9042.,  1188.,  1152.,    83.],\n",
       "        [   68.,  9717.,  1078.,     0.,    74.],\n",
       "        [   75.,  9937.,  1256.,     0.,    59.]])"
      ]
     },
     "execution_count": 153,
     "metadata": {},
     "output_type": "execute_result"
    }
   ],
   "source": [
    "cont_values = np.stack([df[i].values for i in cont_features], axis=1)\n",
    "cont_values = torch.tensor(cont_values, dtype=torch.float)\n",
    "cont_values"
   ]
  },
  {
   "cell_type": "code",
   "execution_count": 154,
   "metadata": {},
   "outputs": [
    {
     "data": {
      "text/plain": [
       "torch.float32"
      ]
     },
     "execution_count": 154,
     "metadata": {},
     "output_type": "execute_result"
    }
   ],
   "source": [
    "cont_values.dtype"
   ]
  },
  {
   "cell_type": "code",
   "execution_count": 155,
   "metadata": {},
   "outputs": [
    {
     "data": {
      "text/plain": [
       "tensor([208500., 181500., 223500.,  ..., 266500., 142125., 147500.])"
      ]
     },
     "execution_count": 155,
     "metadata": {},
     "output_type": "execute_result"
    }
   ],
   "source": [
    "# Dependent feature\n",
    "y = torch.tensor(df['SalePrice'].values, dtype=torch.float)\n",
    "y"
   ]
  },
  {
   "cell_type": "code",
   "execution_count": 156,
   "metadata": {},
   "outputs": [
    {
     "data": {
      "text/plain": [
       "tensor([[208500.],\n",
       "        [181500.],\n",
       "        [223500.],\n",
       "        ...,\n",
       "        [266500.],\n",
       "        [142125.],\n",
       "        [147500.]])"
      ]
     },
     "execution_count": 156,
     "metadata": {},
     "output_type": "execute_result"
    }
   ],
   "source": [
    "y = torch.tensor(df['SalePrice'].values, dtype=torch.float).reshape(-1, 1)\n",
    "y"
   ]
  },
  {
   "cell_type": "code",
   "execution_count": 157,
   "metadata": {},
   "outputs": [
    {
     "name": "stdout",
     "output_type": "stream",
     "text": [
      "<class 'pandas.core.frame.DataFrame'>\n",
      "Index: 1201 entries, 0 to 1459\n",
      "Data columns (total 10 columns):\n",
      " #   Column       Non-Null Count  Dtype  \n",
      "---  ------       --------------  -----  \n",
      " 0   MSSubClass   1201 non-null   int64  \n",
      " 1   MSZoning     1201 non-null   int64  \n",
      " 2   LotFrontage  1201 non-null   float64\n",
      " 3   LotArea      1201 non-null   int64  \n",
      " 4   Street       1201 non-null   int64  \n",
      " 5   LotShape     1201 non-null   int64  \n",
      " 6   1stFlrSF     1201 non-null   int64  \n",
      " 7   2ndFlrSF     1201 non-null   int64  \n",
      " 8   SalePrice    1201 non-null   int64  \n",
      " 9   Total years  1201 non-null   int64  \n",
      "dtypes: float64(1), int64(9)\n",
      "memory usage: 103.2 KB\n"
     ]
    }
   ],
   "source": [
    "df.info()"
   ]
  },
  {
   "cell_type": "code",
   "execution_count": 160,
   "metadata": {},
   "outputs": [
    {
     "data": {
      "text/plain": [
       "(torch.Size([1201, 4]), torch.Size([1201, 5]), torch.Size([1201, 1]))"
      ]
     },
     "execution_count": 160,
     "metadata": {},
     "output_type": "execute_result"
    }
   ],
   "source": [
    "cat_features.shape, cont_values.shape, y.shape"
   ]
  },
  {
   "cell_type": "code",
   "execution_count": 161,
   "metadata": {},
   "outputs": [
    {
     "data": {
      "text/plain": [
       "(1201, 10)"
      ]
     },
     "execution_count": 161,
     "metadata": {},
     "output_type": "execute_result"
    }
   ],
   "source": [
    "df.shape"
   ]
  },
  {
   "cell_type": "markdown",
   "metadata": {},
   "source": [
    "# Embedding size for categorical columns"
   ]
  },
  {
   "cell_type": "code",
   "execution_count": 162,
   "metadata": {},
   "outputs": [
    {
     "data": {
      "text/plain": [
       "[15, 5, 2, 4]"
      ]
     },
     "execution_count": 162,
     "metadata": {},
     "output_type": "execute_result"
    }
   ],
   "source": [
    "cat_dims = [len(df[col].unique()) for col in [\"MSSubClass\", \"MSZoning\", \"Street\", \"LotShape\"]]\n",
    "cat_dims"
   ]
  },
  {
   "cell_type": "code",
   "execution_count": 164,
   "metadata": {},
   "outputs": [
    {
     "data": {
      "text/plain": [
       "[(15, 8), (5, 3), (2, 1), (4, 2)]"
      ]
     },
     "execution_count": 164,
     "metadata": {},
     "output_type": "execute_result"
    }
   ],
   "source": [
    "## Thumb Rule: Output dimensio should be set based on the input dimension (min(50, feature dimension/2))\n",
    "embedding_dim = [(x, min(50, (x+1) // 2)) for x in cat_dims]\n",
    "embedding_dim"
   ]
  },
  {
   "cell_type": "markdown",
   "metadata": {},
   "source": [
    "# =================== Preprocessing step completed ==========================="
   ]
  },
  {
   "cell_type": "code",
   "execution_count": 165,
   "metadata": {},
   "outputs": [
    {
     "data": {
      "text/plain": [
       "ModuleList(\n",
       "  (0): Embedding(15, 8)\n",
       "  (1): Embedding(5, 3)\n",
       "  (2): Embedding(2, 1)\n",
       "  (3): Embedding(4, 2)\n",
       ")"
      ]
     },
     "execution_count": 165,
     "metadata": {},
     "output_type": "execute_result"
    }
   ],
   "source": [
    "import torch\n",
    "import torch.nn as nn\n",
    "import torch.nn.functional as F\n",
    "\n",
    "embed_representation = nn.ModuleList([nn.Embedding(inp, out) for inp, out in embedding_dim])\n",
    "embed_representation"
   ]
  },
  {
   "cell_type": "code",
   "execution_count": 166,
   "metadata": {},
   "outputs": [
    {
     "data": {
      "text/plain": [
       "tensor([[5, 3, 1, 3],\n",
       "        [0, 3, 1, 3],\n",
       "        [5, 3, 1, 0],\n",
       "        ...,\n",
       "        [6, 3, 1, 3],\n",
       "        [0, 3, 1, 3],\n",
       "        [0, 3, 1, 3]])"
      ]
     },
     "execution_count": 166,
     "metadata": {},
     "output_type": "execute_result"
    }
   ],
   "source": [
    "cat_features"
   ]
  },
  {
   "cell_type": "code",
   "execution_count": 167,
   "metadata": {},
   "outputs": [
    {
     "data": {
      "text/plain": [
       "tensor([[5, 3, 1, 3],\n",
       "        [0, 3, 1, 3],\n",
       "        [5, 3, 1, 0],\n",
       "        [6, 3, 1, 0]])"
      ]
     },
     "execution_count": 167,
     "metadata": {},
     "output_type": "execute_result"
    }
   ],
   "source": [
    "cat_features[:4]"
   ]
  },
  {
   "cell_type": "code",
   "execution_count": 168,
   "metadata": {},
   "outputs": [],
   "source": [
    "pd.set_option('display.max_rows', 500)\n",
    "embedding_val = []\n",
    "for i, e in enumerate(embed_representation):\n",
    "    embedding_val.append(e(cat_features[:, i]))"
   ]
  },
  {
   "cell_type": "code",
   "execution_count": 169,
   "metadata": {},
   "outputs": [
    {
     "data": {
      "text/plain": [
       "[tensor([[-0.9116,  1.1317, -0.0168,  ...,  0.0714, -1.2682,  1.1747],\n",
       "         [ 0.6315, -0.1799,  0.3308,  ..., -1.0245, -0.2796,  1.0294],\n",
       "         [-0.9116,  1.1317, -0.0168,  ...,  0.0714, -1.2682,  1.1747],\n",
       "         ...,\n",
       "         [-1.9004, -1.2638,  2.6713,  ..., -1.2084, -1.4775,  0.2661],\n",
       "         [ 0.6315, -0.1799,  0.3308,  ..., -1.0245, -0.2796,  1.0294],\n",
       "         [ 0.6315, -0.1799,  0.3308,  ..., -1.0245, -0.2796,  1.0294]],\n",
       "        grad_fn=<EmbeddingBackward0>),\n",
       " tensor([[ 0.0572,  1.1361, -1.1297],\n",
       "         [ 0.0572,  1.1361, -1.1297],\n",
       "         [ 0.0572,  1.1361, -1.1297],\n",
       "         ...,\n",
       "         [ 0.0572,  1.1361, -1.1297],\n",
       "         [ 0.0572,  1.1361, -1.1297],\n",
       "         [ 0.0572,  1.1361, -1.1297]], grad_fn=<EmbeddingBackward0>),\n",
       " tensor([[0.6653],\n",
       "         [0.6653],\n",
       "         [0.6653],\n",
       "         ...,\n",
       "         [0.6653],\n",
       "         [0.6653],\n",
       "         [0.6653]], grad_fn=<EmbeddingBackward0>),\n",
       " tensor([[1.2910, 2.2201],\n",
       "         [1.2910, 2.2201],\n",
       "         [1.1728, 0.6808],\n",
       "         ...,\n",
       "         [1.2910, 2.2201],\n",
       "         [1.2910, 2.2201],\n",
       "         [1.2910, 2.2201]], grad_fn=<EmbeddingBackward0>)]"
      ]
     },
     "execution_count": 169,
     "metadata": {},
     "output_type": "execute_result"
    }
   ],
   "source": [
    "embedding_val"
   ]
  },
  {
   "cell_type": "code",
   "execution_count": 170,
   "metadata": {},
   "outputs": [
    {
     "data": {
      "text/plain": [
       "tensor([[-0.9116,  1.1317, -0.0168,  ...,  0.6653,  1.2910,  2.2201],\n",
       "        [ 0.6315, -0.1799,  0.3308,  ...,  0.6653,  1.2910,  2.2201],\n",
       "        [-0.9116,  1.1317, -0.0168,  ...,  0.6653,  1.1728,  0.6808],\n",
       "        ...,\n",
       "        [-1.9004, -1.2638,  2.6713,  ...,  0.6653,  1.2910,  2.2201],\n",
       "        [ 0.6315, -0.1799,  0.3308,  ...,  0.6653,  1.2910,  2.2201],\n",
       "        [ 0.6315, -0.1799,  0.3308,  ...,  0.6653,  1.2910,  2.2201]],\n",
       "       grad_fn=<CatBackward0>)"
      ]
     },
     "execution_count": 170,
     "metadata": {},
     "output_type": "execute_result"
    }
   ],
   "source": [
    "z = torch.cat(embedding_val, 1)\n",
    "z"
   ]
  },
  {
   "cell_type": "code",
   "execution_count": 171,
   "metadata": {},
   "outputs": [],
   "source": [
    "# implement dropout\n",
    "\n",
    "dropout = nn.Dropout(.4)"
   ]
  },
  {
   "cell_type": "code",
   "execution_count": 172,
   "metadata": {},
   "outputs": [
    {
     "data": {
      "text/plain": [
       "tensor([[-0.0000,  1.8862, -0.0000,  ...,  0.0000,  0.0000,  3.7001],\n",
       "        [ 0.0000, -0.0000,  0.5513,  ...,  1.1089,  0.0000,  0.0000],\n",
       "        [-1.5193,  1.8862, -0.0280,  ...,  1.1089,  0.0000,  0.0000],\n",
       "        ...,\n",
       "        [-3.1673, -0.0000,  0.0000,  ...,  0.0000,  0.0000,  3.7001],\n",
       "        [ 0.0000, -0.2999,  0.5513,  ...,  1.1089,  2.1517,  0.0000],\n",
       "        [ 0.0000, -0.2999,  0.5513,  ...,  0.0000,  2.1517,  3.7001]],\n",
       "       grad_fn=<MulBackward0>)"
      ]
     },
     "execution_count": 172,
     "metadata": {},
     "output_type": "execute_result"
    }
   ],
   "source": [
    "final_embed = dropout(z)\n",
    "final_embed"
   ]
  },
  {
   "cell_type": "code",
   "execution_count": 173,
   "metadata": {},
   "outputs": [],
   "source": [
    "import torch\n",
    "import torch.nn as nn\n",
    "import torch.nn.functional as F\n",
    "\n",
    "class FeedForwardNN(nn.Module):\n",
    "\n",
    "    def __init__(self, embedding_dim, n_cont, out_sz, layers, p=0.5):\n",
    "        super().__init__()\n",
    "        self.embeds = nn.ModuleList([nn.Embedding(inp, out) for inp, out in embedding_dim])\n",
    "        self.emb_drop = nn.Dropout(p)\n",
    "        self.bn_cont = nn.BatchNorm1d(n_cont)\n",
    "\n",
    "        layerlist = []\n",
    "        n_emb = sum((out for inp, out in embedding_dim))\n",
    "        n_in = n_emb + n_cont\n",
    "\n",
    "        for i in layers:\n",
    "            layerlist.append(nn.Linear(n_in, i))\n",
    "            layerlist.append(nn.ReLU(inplace=True))\n",
    "            layerlist.append(nn.BatchNorm1d(i))\n",
    "            layerlist.append(nn.Dropout(p))\n",
    "            n_in = i\n",
    "        layerlist.append(nn.Linear(layers[-1], out_sz))\n",
    "\n",
    "        self.layers = nn.Sequential(*layerlist)\n",
    "\n",
    "    def forward(self, x_cat, x_cont):\n",
    "        embeddings = []\n",
    "        for i, e in enumerate(self.embeds):\n",
    "            embeddings.append(e(x_cat[:, i]))\n",
    "        \n",
    "        x = torch.cat(embeddings, 1)\n",
    "        x = self.emb_drop(x)\n",
    "\n",
    "        x_cont = self.bn_cont(x_cont)\n",
    "        x = torch.cat([x, x_cont], 1)\n",
    "        x = self.layers(x)\n",
    "        return x"
   ]
  },
  {
   "cell_type": "code",
   "execution_count": 174,
   "metadata": {},
   "outputs": [
    {
     "data": {
      "text/plain": [
       "5"
      ]
     },
     "execution_count": 174,
     "metadata": {},
     "output_type": "execute_result"
    }
   ],
   "source": [
    "len(cont_features)"
   ]
  },
  {
   "cell_type": "code",
   "execution_count": 175,
   "metadata": {},
   "outputs": [],
   "source": [
    "torch.manual_seed(100)\n",
    "model = FeedForwardNN(embedding_dim, len(cont_features), 1, [100, 50], p=0.5)"
   ]
  },
  {
   "cell_type": "code",
   "execution_count": 176,
   "metadata": {},
   "outputs": [
    {
     "data": {
      "text/plain": [
       "FeedForwardNN(\n",
       "  (embeds): ModuleList(\n",
       "    (0): Embedding(15, 8)\n",
       "    (1): Embedding(5, 3)\n",
       "    (2): Embedding(2, 1)\n",
       "    (3): Embedding(4, 2)\n",
       "  )\n",
       "  (emb_drop): Dropout(p=0.5, inplace=False)\n",
       "  (bn_cont): BatchNorm1d(5, eps=1e-05, momentum=0.1, affine=True, track_running_stats=True)\n",
       "  (layers): Sequential(\n",
       "    (0): Linear(in_features=19, out_features=100, bias=True)\n",
       "    (1): ReLU(inplace=True)\n",
       "    (2): BatchNorm1d(100, eps=1e-05, momentum=0.1, affine=True, track_running_stats=True)\n",
       "    (3): Dropout(p=0.5, inplace=False)\n",
       "    (4): Linear(in_features=100, out_features=50, bias=True)\n",
       "    (5): ReLU(inplace=True)\n",
       "    (6): BatchNorm1d(50, eps=1e-05, momentum=0.1, affine=True, track_running_stats=True)\n",
       "    (7): Dropout(p=0.5, inplace=False)\n",
       "    (8): Linear(in_features=50, out_features=1, bias=True)\n",
       "  )\n",
       ")"
      ]
     },
     "execution_count": 176,
     "metadata": {},
     "output_type": "execute_result"
    }
   ],
   "source": [
    "model"
   ]
  },
  {
   "cell_type": "markdown",
   "metadata": {},
   "source": [
    "Define Loss and Optimizer"
   ]
  },
  {
   "cell_type": "code",
   "execution_count": 177,
   "metadata": {},
   "outputs": [],
   "source": [
    "loss_function = nn.MSELoss()\n",
    "optimizer = torch.optim.Adam(model.parameters(), lr=0.01)"
   ]
  },
  {
   "cell_type": "code",
   "execution_count": 178,
   "metadata": {},
   "outputs": [
    {
     "data": {
      "text/plain": [
       "(1201, 10)"
      ]
     },
     "execution_count": 178,
     "metadata": {},
     "output_type": "execute_result"
    }
   ],
   "source": [
    "df.shape"
   ]
  },
  {
   "cell_type": "code",
   "execution_count": 179,
   "metadata": {},
   "outputs": [
    {
     "data": {
      "text/plain": [
       "tensor([[   65.,  8450.,   856.,   854.,    21.],\n",
       "        [   80.,  9600.,  1262.,     0.,    48.],\n",
       "        [   68., 11250.,   920.,   866.,    23.],\n",
       "        ...,\n",
       "        [   66.,  9042.,  1188.,  1152.,    83.],\n",
       "        [   68.,  9717.,  1078.,     0.,    74.],\n",
       "        [   75.,  9937.,  1256.,     0.,    59.]])"
      ]
     },
     "execution_count": 179,
     "metadata": {},
     "output_type": "execute_result"
    }
   ],
   "source": [
    "cont_values"
   ]
  },
  {
   "cell_type": "code",
   "execution_count": 180,
   "metadata": {},
   "outputs": [
    {
     "data": {
      "text/plain": [
       "torch.Size([1201, 5])"
      ]
     },
     "execution_count": 180,
     "metadata": {},
     "output_type": "execute_result"
    }
   ],
   "source": [
    "cont_values.shape"
   ]
  },
  {
   "cell_type": "code",
   "execution_count": 181,
   "metadata": {},
   "outputs": [],
   "source": [
    "batch_size = 1200\n",
    "\n",
    "test_size = int(batch_size*0.15)\n",
    "\n",
    "train_categorical = cat_features[:batch_size-test_size]\n",
    "test_categorical = cat_features[batch_size-test_size:batch_size]\n",
    "\n",
    "train_cont = cont_values[:batch_size-test_size]\n",
    "test_cont = cont_values[batch_size-test_size:batch_size]\n",
    "\n",
    "y_train = y[:batch_size-test_size]\n",
    "y_test = y[batch_size-test_size:batch_size]"
   ]
  },
  {
   "cell_type": "code",
   "execution_count": 182,
   "metadata": {},
   "outputs": [
    {
     "data": {
      "text/plain": [
       "(1020, 180, 1020, 180, 1020, 180)"
      ]
     },
     "execution_count": 182,
     "metadata": {},
     "output_type": "execute_result"
    }
   ],
   "source": [
    "len(train_categorical), len(test_categorical), len(train_cont), len(test_cont), len(y_train), len(y_test)"
   ]
  },
  {
   "cell_type": "code",
   "execution_count": 183,
   "metadata": {},
   "outputs": [
    {
     "name": "stdout",
     "output_type": "stream",
     "text": [
      "Epoch number: 1 and the loss: 200496.78125\n",
      "Epoch number: 11 and the loss: 200493.65625\n",
      "Epoch number: 21 and the loss: 200489.265625\n",
      "Epoch number: 31 and the loss: 200482.890625\n",
      "Epoch number: 41 and the loss: 200473.875\n",
      "Epoch number: 51 and the loss: 200461.765625\n",
      "Epoch number: 61 and the loss: 200446.96875\n",
      "Epoch number: 71 and the loss: 200430.09375\n",
      "Epoch number: 81 and the loss: 200409.25\n",
      "Epoch number: 91 and the loss: 200384.9375\n",
      "Epoch number: 101 and the loss: 200356.484375\n",
      "Epoch number: 111 and the loss: 200324.296875\n",
      "Epoch number: 121 and the loss: 200293.015625\n",
      "Epoch number: 131 and the loss: 200253.515625\n",
      "Epoch number: 141 and the loss: 200208.8125\n",
      "Epoch number: 151 and the loss: 200162.46875\n",
      "Epoch number: 161 and the loss: 200116.03125\n",
      "Epoch number: 171 and the loss: 200063.953125\n",
      "Epoch number: 181 and the loss: 200009.9375\n",
      "Epoch number: 191 and the loss: 199951.625\n",
      "Epoch number: 201 and the loss: 199882.5\n",
      "Epoch number: 211 and the loss: 199822.75\n",
      "Epoch number: 221 and the loss: 199744.125\n",
      "Epoch number: 231 and the loss: 199673.71875\n",
      "Epoch number: 241 and the loss: 199598.03125\n",
      "Epoch number: 251 and the loss: 199505.109375\n",
      "Epoch number: 261 and the loss: 199405.0625\n",
      "Epoch number: 271 and the loss: 199342.984375\n",
      "Epoch number: 281 and the loss: 199255.390625\n",
      "Epoch number: 291 and the loss: 199136.015625\n",
      "Epoch number: 301 and the loss: 199042.421875\n",
      "Epoch number: 311 and the loss: 198932.546875\n",
      "Epoch number: 321 and the loss: 198842.859375\n",
      "Epoch number: 331 and the loss: 198700.828125\n",
      "Epoch number: 341 and the loss: 198602.78125\n",
      "Epoch number: 351 and the loss: 198513.796875\n",
      "Epoch number: 361 and the loss: 198386.109375\n",
      "Epoch number: 371 and the loss: 198253.875\n",
      "Epoch number: 381 and the loss: 198097.25\n",
      "Epoch number: 391 and the loss: 198029.21875\n",
      "Epoch number: 401 and the loss: 197891.0\n",
      "Epoch number: 411 and the loss: 197752.546875\n",
      "Epoch number: 421 and the loss: 197586.46875\n",
      "Epoch number: 431 and the loss: 197452.453125\n",
      "Epoch number: 441 and the loss: 197277.28125\n",
      "Epoch number: 451 and the loss: 197142.609375\n",
      "Epoch number: 461 and the loss: 196948.953125\n",
      "Epoch number: 471 and the loss: 196926.546875\n",
      "Epoch number: 481 and the loss: 196698.640625\n",
      "Epoch number: 491 and the loss: 196479.671875\n",
      "Epoch number: 501 and the loss: 196426.9375\n",
      "Epoch number: 511 and the loss: 196239.421875\n",
      "Epoch number: 521 and the loss: 196065.234375\n",
      "Epoch number: 531 and the loss: 195837.671875\n",
      "Epoch number: 541 and the loss: 195690.53125\n",
      "Epoch number: 551 and the loss: 195474.75\n",
      "Epoch number: 561 and the loss: 195293.15625\n",
      "Epoch number: 571 and the loss: 195045.65625\n",
      "Epoch number: 581 and the loss: 194817.640625\n",
      "Epoch number: 591 and the loss: 194632.453125\n",
      "Epoch number: 601 and the loss: 194594.109375\n",
      "Epoch number: 611 and the loss: 194359.953125\n",
      "Epoch number: 621 and the loss: 194080.75\n",
      "Epoch number: 631 and the loss: 193857.6875\n",
      "Epoch number: 641 and the loss: 193646.78125\n",
      "Epoch number: 651 and the loss: 193513.21875\n",
      "Epoch number: 661 and the loss: 193261.609375\n",
      "Epoch number: 671 and the loss: 193115.25\n",
      "Epoch number: 681 and the loss: 192815.0625\n",
      "Epoch number: 691 and the loss: 192513.46875\n",
      "Epoch number: 701 and the loss: 192286.765625\n",
      "Epoch number: 711 and the loss: 192254.34375\n",
      "Epoch number: 721 and the loss: 192019.765625\n",
      "Epoch number: 731 and the loss: 191594.40625\n",
      "Epoch number: 741 and the loss: 191507.375\n",
      "Epoch number: 751 and the loss: 191203.734375\n",
      "Epoch number: 761 and the loss: 191007.921875\n",
      "Epoch number: 771 and the loss: 190832.71875\n",
      "Epoch number: 781 and the loss: 190518.078125\n",
      "Epoch number: 791 and the loss: 190269.734375\n",
      "Epoch number: 801 and the loss: 189966.734375\n",
      "Epoch number: 811 and the loss: 189677.765625\n",
      "Epoch number: 821 and the loss: 189735.578125\n",
      "Epoch number: 831 and the loss: 189285.109375\n",
      "Epoch number: 841 and the loss: 189035.53125\n",
      "Epoch number: 851 and the loss: 188903.859375\n",
      "Epoch number: 861 and the loss: 188469.109375\n",
      "Epoch number: 871 and the loss: 188164.515625\n",
      "Epoch number: 881 and the loss: 188007.5\n",
      "Epoch number: 891 and the loss: 187512.34375\n",
      "Epoch number: 901 and the loss: 187553.09375\n",
      "Epoch number: 911 and the loss: 187374.8125\n",
      "Epoch number: 921 and the loss: 186642.25\n",
      "Epoch number: 931 and the loss: 186516.609375\n",
      "Epoch number: 941 and the loss: 186319.8125\n",
      "Epoch number: 951 and the loss: 185919.15625\n",
      "Epoch number: 961 and the loss: 185586.921875\n",
      "Epoch number: 971 and the loss: 185309.84375\n",
      "Epoch number: 981 and the loss: 185129.8125\n",
      "Epoch number: 991 and the loss: 184713.8125\n",
      "Epoch number: 1001 and the loss: 184500.5\n",
      "Epoch number: 1011 and the loss: 184048.078125\n",
      "Epoch number: 1021 and the loss: 183836.359375\n",
      "Epoch number: 1031 and the loss: 183613.796875\n",
      "Epoch number: 1041 and the loss: 183274.15625\n",
      "Epoch number: 1051 and the loss: 183039.453125\n",
      "Epoch number: 1061 and the loss: 182532.75\n",
      "Epoch number: 1071 and the loss: 182456.4375\n",
      "Epoch number: 1081 and the loss: 182215.609375\n",
      "Epoch number: 1091 and the loss: 181630.046875\n",
      "Epoch number: 1101 and the loss: 181375.25\n",
      "Epoch number: 1111 and the loss: 180775.671875\n",
      "Epoch number: 1121 and the loss: 180531.09375\n",
      "Epoch number: 1131 and the loss: 180631.578125\n",
      "Epoch number: 1141 and the loss: 180147.015625\n",
      "Epoch number: 1151 and the loss: 179599.03125\n",
      "Epoch number: 1161 and the loss: 179476.0\n",
      "Epoch number: 1171 and the loss: 179221.875\n",
      "Epoch number: 1181 and the loss: 178544.6875\n",
      "Epoch number: 1191 and the loss: 178008.90625\n",
      "Epoch number: 1201 and the loss: 178275.3125\n",
      "Epoch number: 1211 and the loss: 177608.453125\n",
      "Epoch number: 1221 and the loss: 177894.59375\n",
      "Epoch number: 1231 and the loss: 176367.078125\n",
      "Epoch number: 1241 and the loss: 176229.28125\n",
      "Epoch number: 1251 and the loss: 175791.40625\n",
      "Epoch number: 1261 and the loss: 175574.4375\n",
      "Epoch number: 1271 and the loss: 175760.296875\n",
      "Epoch number: 1281 and the loss: 174948.265625\n",
      "Epoch number: 1291 and the loss: 174635.125\n",
      "Epoch number: 1301 and the loss: 174334.359375\n",
      "Epoch number: 1311 and the loss: 173647.40625\n",
      "Epoch number: 1321 and the loss: 173059.59375\n",
      "Epoch number: 1331 and the loss: 173678.328125\n",
      "Epoch number: 1341 and the loss: 172975.015625\n",
      "Epoch number: 1351 and the loss: 172478.765625\n",
      "Epoch number: 1361 and the loss: 172141.796875\n",
      "Epoch number: 1371 and the loss: 172020.5\n",
      "Epoch number: 1381 and the loss: 171502.234375\n",
      "Epoch number: 1391 and the loss: 170452.109375\n",
      "Epoch number: 1401 and the loss: 170782.359375\n",
      "Epoch number: 1411 and the loss: 169835.484375\n",
      "Epoch number: 1421 and the loss: 169881.859375\n",
      "Epoch number: 1431 and the loss: 169420.90625\n",
      "Epoch number: 1441 and the loss: 168832.484375\n",
      "Epoch number: 1451 and the loss: 168817.59375\n",
      "Epoch number: 1461 and the loss: 168105.75\n",
      "Epoch number: 1471 and the loss: 167747.875\n",
      "Epoch number: 1481 and the loss: 167407.640625\n",
      "Epoch number: 1491 and the loss: 166974.953125\n",
      "Epoch number: 1501 and the loss: 166796.671875\n",
      "Epoch number: 1511 and the loss: 165391.8125\n",
      "Epoch number: 1521 and the loss: 165938.46875\n",
      "Epoch number: 1531 and the loss: 165451.453125\n",
      "Epoch number: 1541 and the loss: 164743.8125\n",
      "Epoch number: 1551 and the loss: 164844.828125\n",
      "Epoch number: 1561 and the loss: 163984.40625\n",
      "Epoch number: 1571 and the loss: 163660.765625\n",
      "Epoch number: 1581 and the loss: 163062.84375\n",
      "Epoch number: 1591 and the loss: 163136.75\n",
      "Epoch number: 1601 and the loss: 162649.375\n",
      "Epoch number: 1611 and the loss: 161464.46875\n",
      "Epoch number: 1621 and the loss: 161299.453125\n",
      "Epoch number: 1631 and the loss: 161001.5\n",
      "Epoch number: 1641 and the loss: 161106.59375\n",
      "Epoch number: 1651 and the loss: 160547.46875\n",
      "Epoch number: 1661 and the loss: 160421.921875\n",
      "Epoch number: 1671 and the loss: 159501.0\n",
      "Epoch number: 1681 and the loss: 159055.6875\n",
      "Epoch number: 1691 and the loss: 159017.953125\n",
      "Epoch number: 1701 and the loss: 157826.828125\n",
      "Epoch number: 1711 and the loss: 157373.640625\n",
      "Epoch number: 1721 and the loss: 157278.3125\n",
      "Epoch number: 1731 and the loss: 157274.59375\n",
      "Epoch number: 1741 and the loss: 156468.0625\n",
      "Epoch number: 1751 and the loss: 156275.65625\n",
      "Epoch number: 1761 and the loss: 154781.25\n",
      "Epoch number: 1771 and the loss: 155012.890625\n",
      "Epoch number: 1781 and the loss: 154861.109375\n",
      "Epoch number: 1791 and the loss: 154292.09375\n",
      "Epoch number: 1801 and the loss: 153682.65625\n",
      "Epoch number: 1811 and the loss: 153071.4375\n",
      "Epoch number: 1821 and the loss: 152585.984375\n",
      "Epoch number: 1831 and the loss: 152860.671875\n",
      "Epoch number: 1841 and the loss: 152176.640625\n",
      "Epoch number: 1851 and the loss: 150488.609375\n",
      "Epoch number: 1861 and the loss: 150952.796875\n",
      "Epoch number: 1871 and the loss: 150529.984375\n",
      "Epoch number: 1881 and the loss: 149268.203125\n",
      "Epoch number: 1891 and the loss: 148746.921875\n",
      "Epoch number: 1901 and the loss: 149077.921875\n",
      "Epoch number: 1911 and the loss: 149178.6875\n",
      "Epoch number: 1921 and the loss: 148234.140625\n",
      "Epoch number: 1931 and the loss: 147433.21875\n",
      "Epoch number: 1941 and the loss: 147118.5625\n",
      "Epoch number: 1951 and the loss: 146629.171875\n",
      "Epoch number: 1961 and the loss: 145806.0\n",
      "Epoch number: 1971 and the loss: 146103.34375\n",
      "Epoch number: 1981 and the loss: 146928.671875\n",
      "Epoch number: 1991 and the loss: 144787.0625\n"
     ]
    }
   ],
   "source": [
    "epochs = 2000\n",
    "final_losses = []\n",
    "\n",
    "for i in range(epochs):\n",
    "    i = i+1\n",
    "    y_pred = model(train_categorical, train_cont)\n",
    "    loss = torch.sqrt(loss_function(y_pred, y_train)) ## RMSE\n",
    "\n",
    "    final_losses.append(loss)\n",
    "    if i%10 == 1:\n",
    "        print(f\"Epoch number: {i} and the loss: {loss.item()}\")\n",
    "\n",
    "    optimizer.zero_grad()\n",
    "    loss.backward()\n",
    "    optimizer.step()"
   ]
  },
  {
   "cell_type": "code",
   "execution_count": 185,
   "metadata": {},
   "outputs": [
    {
     "data": {
      "text/plain": [
       "Text(0.5, 0, 'epochs')"
      ]
     },
     "execution_count": 185,
     "metadata": {},
     "output_type": "execute_result"
    },
    {
     "data": {
      "image/png": "[encoded data removed]",
      "text/plain": [
       "<Figure size 640x480 with 1 Axes>"
      ]
     },
     "metadata": {},
     "output_type": "display_data"
    }
   ],
   "source": [
    "final_losses = [loss.detach().numpy() if hasattr(loss, 'detach') else loss for loss in final_losses]\n",
    "\n",
    "import matplotlib.pyplot as plt\n",
    "\n",
    "plt.plot(range(epochs), final_losses)\n",
    "plt.ylabel(\"EMSE LOSS\")\n",
    "plt.xlabel(\"epochs\")"
   ]
  },
  {
   "cell_type": "code",
   "execution_count": 186,
   "metadata": {},
   "outputs": [
    {
     "name": "stdout",
     "output_type": "stream",
     "text": [
      "RMSE: 139563.875\n"
     ]
    }
   ],
   "source": [
    "# Validate the test data\n",
    "\n",
    "y_pred = \"\"\n",
    "with torch.no_grad():\n",
    "    y_pred = model(test_categorical, test_cont)\n",
    "    loss = torch.sqrt(loss_function(y_pred, y_test))\n",
    "print(f\"RMSE: {loss}\")"
   ]
  },
  {
   "cell_type": "code",
   "execution_count": 188,
   "metadata": {},
   "outputs": [],
   "source": [
    "data_verify = pd.DataFrame(y_test.tolist(), columns=[\"Test\"])"
   ]
  },
  {
   "cell_type": "code",
   "execution_count": 189,
   "metadata": {},
   "outputs": [],
   "source": [
    "data_predicted = pd.DataFrame(y_pred.tolist(), columns=[\"Prediction\"])"
   ]
  },
  {
   "cell_type": "code",
   "execution_count": 191,
   "metadata": {},
   "outputs": [
    {
     "data": {
      "text/html": [
       "<div>\n",
       "<style scoped>\n",
       "    .dataframe tbody tr th:only-of-type {\n",
       "        vertical-align: middle;\n",
       "    }\n",
       "\n",
       "    .dataframe tbody tr th {\n",
       "        vertical-align: top;\n",
       "    }\n",
       "\n",
       "    .dataframe thead th {\n",
       "        text-align: right;\n",
       "    }\n",
       "</style>\n",
       "<table border=\"1\" class=\"dataframe\">\n",
       "  <thead>\n",
       "    <tr style=\"text-align: right;\">\n",
       "      <th></th>\n",
       "      <th>Prediction</th>\n",
       "    </tr>\n",
       "  </thead>\n",
       "  <tbody>\n",
       "    <tr>\n",
       "      <th>0</th>\n",
       "      <td>44052.769531</td>\n",
       "    </tr>\n",
       "    <tr>\n",
       "      <th>1</th>\n",
       "      <td>31064.375000</td>\n",
       "    </tr>\n",
       "    <tr>\n",
       "      <th>2</th>\n",
       "      <td>33538.335938</td>\n",
       "    </tr>\n",
       "    <tr>\n",
       "      <th>3</th>\n",
       "      <td>89223.781250</td>\n",
       "    </tr>\n",
       "    <tr>\n",
       "      <th>4</th>\n",
       "      <td>37991.621094</td>\n",
       "    </tr>\n",
       "    <tr>\n",
       "      <th>5</th>\n",
       "      <td>62336.996094</td>\n",
       "    </tr>\n",
       "    <tr>\n",
       "      <th>6</th>\n",
       "      <td>56611.121094</td>\n",
       "    </tr>\n",
       "    <tr>\n",
       "      <th>7</th>\n",
       "      <td>101960.671875</td>\n",
       "    </tr>\n",
       "    <tr>\n",
       "      <th>8</th>\n",
       "      <td>26918.183594</td>\n",
       "    </tr>\n",
       "    <tr>\n",
       "      <th>9</th>\n",
       "      <td>129863.234375</td>\n",
       "    </tr>\n",
       "  </tbody>\n",
       "</table>\n",
       "</div>"
      ],
      "text/plain": [
       "      Prediction\n",
       "0   44052.769531\n",
       "1   31064.375000\n",
       "2   33538.335938\n",
       "3   89223.781250\n",
       "4   37991.621094\n",
       "5   62336.996094\n",
       "6   56611.121094\n",
       "7  101960.671875\n",
       "8   26918.183594\n",
       "9  129863.234375"
      ]
     },
     "execution_count": 191,
     "metadata": {},
     "output_type": "execute_result"
    }
   ],
   "source": [
    "data_predicted[:10]"
   ]
  },
  {
   "cell_type": "code",
   "execution_count": 192,
   "metadata": {},
   "outputs": [
    {
     "data": {
      "text/html": [
       "<div>\n",
       "<style scoped>\n",
       "    .dataframe tbody tr th:only-of-type {\n",
       "        vertical-align: middle;\n",
       "    }\n",
       "\n",
       "    .dataframe tbody tr th {\n",
       "        vertical-align: top;\n",
       "    }\n",
       "\n",
       "    .dataframe thead th {\n",
       "        text-align: right;\n",
       "    }\n",
       "</style>\n",
       "<table border=\"1\" class=\"dataframe\">\n",
       "  <thead>\n",
       "    <tr style=\"text-align: right;\">\n",
       "      <th></th>\n",
       "      <th>Test</th>\n",
       "      <th>Prediction</th>\n",
       "      <th>Difference</th>\n",
       "    </tr>\n",
       "  </thead>\n",
       "  <tbody>\n",
       "    <tr>\n",
       "      <th>0</th>\n",
       "      <td>130000.0</td>\n",
       "      <td>44052.769531</td>\n",
       "      <td>85947.230469</td>\n",
       "    </tr>\n",
       "    <tr>\n",
       "      <th>1</th>\n",
       "      <td>138887.0</td>\n",
       "      <td>31064.375000</td>\n",
       "      <td>107822.625000</td>\n",
       "    </tr>\n",
       "    <tr>\n",
       "      <th>2</th>\n",
       "      <td>175500.0</td>\n",
       "      <td>33538.335938</td>\n",
       "      <td>141961.664062</td>\n",
       "    </tr>\n",
       "    <tr>\n",
       "      <th>3</th>\n",
       "      <td>195000.0</td>\n",
       "      <td>89223.781250</td>\n",
       "      <td>105776.218750</td>\n",
       "    </tr>\n",
       "    <tr>\n",
       "      <th>4</th>\n",
       "      <td>142500.0</td>\n",
       "      <td>37991.621094</td>\n",
       "      <td>104508.378906</td>\n",
       "    </tr>\n",
       "  </tbody>\n",
       "</table>\n",
       "</div>"
      ],
      "text/plain": [
       "       Test    Prediction     Difference\n",
       "0  130000.0  44052.769531   85947.230469\n",
       "1  138887.0  31064.375000  107822.625000\n",
       "2  175500.0  33538.335938  141961.664062\n",
       "3  195000.0  89223.781250  105776.218750\n",
       "4  142500.0  37991.621094  104508.378906"
      ]
     },
     "execution_count": 192,
     "metadata": {},
     "output_type": "execute_result"
    }
   ],
   "source": [
    "final_output = pd.concat([data_verify, data_predicted], axis=1)\n",
    "final_output['Difference'] = final_output['Test'] - final_output['Prediction']\n",
    "final_output.head()"
   ]
  },
  {
   "cell_type": "code",
   "execution_count": 193,
   "metadata": {},
   "outputs": [],
   "source": [
    "torch.save(model, 'HousePrice.pt')"
   ]
  },
  {
   "cell_type": "code",
   "execution_count": 194,
   "metadata": {},
   "outputs": [],
   "source": [
    "torch.save(model.state_dict(), 'HouseWeights.pt')"
   ]
  },
  {
   "cell_type": "code",
   "execution_count": 195,
   "metadata": {},
   "outputs": [],
   "source": [
    "# Loading the save model\n",
    "\n",
    "embs_size = [(15, 8), (5,3), (2,1), (4,2)]\n",
    "model1 = FeedForwardNN(embs_size, 5, 1, [100, 50], p=0.4)"
   ]
  },
  {
   "cell_type": "code",
   "execution_count": 196,
   "metadata": {},
   "outputs": [
    {
     "name": "stderr",
     "output_type": "stream",
     "text": [
      "C:\\Users\\2260927\\AppData\\Local\\Temp\\ipykernel_14364\\2229105223.py:1: FutureWarning: You are using `torch.load` with `weights_only=False` (the current default value), which uses the default pickle module implicitly. It is possible to construct malicious pickle data which will execute arbitrary code during unpickling (See https://github.com/pytorch/pytorch/blob/main/SECURITY.md#untrusted-models for more details). In a future release, the default value for `weights_only` will be flipped to `True`. This limits the functions that could be executed during unpickling. Arbitrary objects will no longer be allowed to be loaded via this mode unless they are explicitly allowlisted by the user via `torch.serialization.add_safe_globals`. We recommend you start setting `weights_only=True` for any use case where you don't have full control of the loaded file. Please open an issue on GitHub for any issues related to this experimental feature.\n",
      "  model1.load_state_dict(torch.load('HouseWeights.pt'))\n"
     ]
    },
    {
     "data": {
      "text/plain": [
       "<All keys matched successfully>"
      ]
     },
     "execution_count": 196,
     "metadata": {},
     "output_type": "execute_result"
    }
   ],
   "source": [
    "model1.load_state_dict(torch.load('HouseWeights.pt'))"
   ]
  },
  {
   "cell_type": "code",
   "execution_count": 198,
   "metadata": {},
   "outputs": [
    {
     "data": {
      "text/plain": [
       "FeedForwardNN(\n",
       "  (embeds): ModuleList(\n",
       "    (0): Embedding(15, 8)\n",
       "    (1): Embedding(5, 3)\n",
       "    (2): Embedding(2, 1)\n",
       "    (3): Embedding(4, 2)\n",
       "  )\n",
       "  (emb_drop): Dropout(p=0.4, inplace=False)\n",
       "  (bn_cont): BatchNorm1d(5, eps=1e-05, momentum=0.1, affine=True, track_running_stats=True)\n",
       "  (layers): Sequential(\n",
       "    (0): Linear(in_features=19, out_features=100, bias=True)\n",
       "    (1): ReLU(inplace=True)\n",
       "    (2): BatchNorm1d(100, eps=1e-05, momentum=0.1, affine=True, track_running_stats=True)\n",
       "    (3): Dropout(p=0.4, inplace=False)\n",
       "    (4): Linear(in_features=100, out_features=50, bias=True)\n",
       "    (5): ReLU(inplace=True)\n",
       "    (6): BatchNorm1d(50, eps=1e-05, momentum=0.1, affine=True, track_running_stats=True)\n",
       "    (7): Dropout(p=0.4, inplace=False)\n",
       "    (8): Linear(in_features=50, out_features=1, bias=True)\n",
       "  )\n",
       ")"
      ]
     },
     "execution_count": 198,
     "metadata": {},
     "output_type": "execute_result"
    }
   ],
   "source": [
    "model1.eval()"
   ]
  },
  {
   "cell_type": "code",
   "execution_count": null,
   "metadata": {},
   "outputs": [],
   "source": []
  }
 ],
 "metadata": {
  "kernelspec": {
   "display_name": "Python 3",
   "language": "python",
   "name": "python3"
  },
  "language_info": {
   "codemirror_mode": {
    "name": "ipython",
    "version": 3
   },
   "file_extension": ".py",
   "mimetype": "text/x-python",
   "name": "python",
   "nbconvert_exporter": "python",
   "pygments_lexer": "ipython3",
   "version": "3.10.0"
  }
 },
 "nbformat": 4,
 "nbformat_minor": 2
}
